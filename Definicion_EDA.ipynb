{
 "cells": [
  {
   "cell_type": "markdown",
   "metadata": {},
   "source": [
    "![imagen](./img/ejercicios.png)"
   ]
  },
  {
   "cell_type": "markdown",
   "metadata": {},
   "source": [
    "# INFORMACIÓN DEL PROYECTO"
   ]
  },
  {
   "cell_type": "markdown",
   "metadata": {},
   "source": [
    "### TÍTULO"
   ]
  },
  {
   "cell_type": "code",
   "execution_count": null,
   "metadata": {},
   "outputs": [],
   "source": [
    "#Escribe el título del proyecto en Markdown\n",
    "titulo = \"Análisis de Datos de Juegos en Steam: Tendencias y Oportunidades\""
   ]
  },
  {
   "cell_type": "markdown",
   "metadata": {},
   "source": [
    "### TEMA"
   ]
  },
  {
   "cell_type": "code",
   "execution_count": null,
   "metadata": {},
   "outputs": [],
   "source": [
    "# Describe brevemente el tema del proyecto en Markdown\n",
    "tema = \"Este análisis examina diversas hipótesis sobre el mercado de juegos en Steam. Exploramos factores como popularidad, precios y géneros. El objetivo es identificar patrones y oportunidades para desarrolladores e inversores.\""
   ]
  },
  {
   "cell_type": "markdown",
   "metadata": {},
   "source": [
    "### HIPÓTESIS"
   ]
  },
  {
   "cell_type": "markdown",
   "metadata": {},
   "source": [
    "Define aquí lo que será la hipótesis de tu proyecto.\n",
    "Deberás tener más de una, pero tu proyecto lo harás teniendo una principal hipótesis."
   ]
  },
  {
   "cell_type": "code",
   "execution_count": null,
   "metadata": {},
   "outputs": [],
   "source": [
    "# Escribe tu hipótesis principal en Markdown\n",
    "hipotesis_1 = \"Los juegos que mantienen un equilibrio óptimo entre precio y valoración positiva de los usuarios tienden a alcanzar mayor éxito comercial, medido en términos de número de propietarios e ingresos estimados\"\n"
   ]
  },
  {
   "cell_type": "code",
   "execution_count": null,
   "metadata": {},
   "outputs": [],
   "source": [
    "# Escribe más hipótesis si las hubiera en Markdown\n",
    "hipotesis_2 = \"Estrategias de Precios y Éxito Comercial\"\n",
    "hipotesis_3 = \"Análisis de Popularidad por Género\"\n",
    "hipotesis_4 = \"Comparacion entre juegos Gratuitos y de Pago Propietarios y Valoraciones\"\n",
    "hipotesis_5 = \"Impacto de las Reseñas en el Éxito Comercial\"\n",
    "hipotesis_6 = \"Comparar la distribución de propietarios y valoraciones entre juegos indie y AAA\"\n",
    "# ...\n"
   ]
  },
  {
   "cell_type": "markdown",
   "metadata": {},
   "source": [
    "## OBTENCIÓN DE LOS DATOS"
   ]
  },
  {
   "cell_type": "markdown",
   "metadata": {},
   "source": [
    "### DATASETS Y FUENTES ALTERNATIVAS DE DATOS"
   ]
  },
  {
   "cell_type": "markdown",
   "metadata": {},
   "source": [
    "Incluye aquí una vista del dataset o datasets de los que partirás para poder evaluar tu hipótesis. <br>\n",
    "También incluye el origen de estos datos y su fuente."
   ]
  },
  {
   "cell_type": "code",
   "execution_count": 2,
   "metadata": {},
   "outputs": [],
   "source": [
    "import pandas as pd\n",
    "df_steam = pd.read_csv('steam_games_database.csv')\n",
    "# df_2 = pd.DataFrame()\n",
    "# fuente_2 = \"\"\n",
    "# df_3 = pd.DataFrame()\n",
    "# fuente_3 = \"\"\n",
    "# df_4 = pd.DataFrame()\n",
    "# fuente_4 = \"\"\n",
    "# df_5 = pd.DataFrame()\n",
    "# fuente_5 = \"\"\n",
    "# ..."
   ]
  },
  {
   "cell_type": "markdown",
   "metadata": {},
   "source": [
    "Muestra mediante un head() los principales datasets con los que vas a trabajar"
   ]
  },
  {
   "cell_type": "code",
   "execution_count": 4,
   "metadata": {},
   "outputs": [
    {
     "data": {
      "text/html": [
       "<div>\n",
       "<style scoped>\n",
       "    .dataframe tbody tr th:only-of-type {\n",
       "        vertical-align: middle;\n",
       "    }\n",
       "\n",
       "    .dataframe tbody tr th {\n",
       "        vertical-align: top;\n",
       "    }\n",
       "\n",
       "    .dataframe thead th {\n",
       "        text-align: right;\n",
       "    }\n",
       "</style>\n",
       "<table border=\"1\" class=\"dataframe\">\n",
       "  <thead>\n",
       "    <tr style=\"text-align: right;\">\n",
       "      <th></th>\n",
       "      <th>app_id</th>\n",
       "      <th>name</th>\n",
       "      <th>price</th>\n",
       "      <th>is_free</th>\n",
       "      <th>owners</th>\n",
       "      <th>positive</th>\n",
       "      <th>negative</th>\n",
       "      <th>average_playtime</th>\n",
       "      <th>median_playtime</th>\n",
       "      <th>genres</th>\n",
       "      <th>...</th>\n",
       "      <th>metacritic_score</th>\n",
       "      <th>user_score</th>\n",
       "      <th>critic_reviews_count</th>\n",
       "      <th>dlc_count</th>\n",
       "      <th>has_dlc</th>\n",
       "      <th>has_microtransactions</th>\n",
       "      <th>microtransaction_type</th>\n",
       "      <th>early_access_date</th>\n",
       "      <th>full_release_date</th>\n",
       "      <th>positive_ratio</th>\n",
       "    </tr>\n",
       "  </thead>\n",
       "  <tbody>\n",
       "    <tr>\n",
       "      <th>0</th>\n",
       "      <td>570</td>\n",
       "      <td>Dota 2</td>\n",
       "      <td>0.0</td>\n",
       "      <td>True</td>\n",
       "      <td>350000000</td>\n",
       "      <td>1918179</td>\n",
       "      <td>432830</td>\n",
       "      <td>0</td>\n",
       "      <td>0</td>\n",
       "      <td>Action, Strategy, Free To Play</td>\n",
       "      <td>...</td>\n",
       "      <td>0</td>\n",
       "      <td>0.0</td>\n",
       "      <td>0</td>\n",
       "      <td>0</td>\n",
       "      <td>False</td>\n",
       "      <td>True</td>\n",
       "      <td>Cosmetic</td>\n",
       "      <td>NaN</td>\n",
       "      <td>NaN</td>\n",
       "      <td>0.815896</td>\n",
       "    </tr>\n",
       "    <tr>\n",
       "      <th>1</th>\n",
       "      <td>730</td>\n",
       "      <td>Counter-Strike 2</td>\n",
       "      <td>0.0</td>\n",
       "      <td>True</td>\n",
       "      <td>150000000</td>\n",
       "      <td>7289663</td>\n",
       "      <td>1094350</td>\n",
       "      <td>0</td>\n",
       "      <td>0</td>\n",
       "      <td>Action, Free To Play</td>\n",
       "      <td>...</td>\n",
       "      <td>0</td>\n",
       "      <td>0.0</td>\n",
       "      <td>0</td>\n",
       "      <td>0</td>\n",
       "      <td>False</td>\n",
       "      <td>True</td>\n",
       "      <td>General</td>\n",
       "      <td>NaN</td>\n",
       "      <td>NaN</td>\n",
       "      <td>0.869472</td>\n",
       "    </tr>\n",
       "    <tr>\n",
       "      <th>2</th>\n",
       "      <td>578080</td>\n",
       "      <td>PUBG: BATTLEGROUNDS</td>\n",
       "      <td>0.0</td>\n",
       "      <td>True</td>\n",
       "      <td>75000000</td>\n",
       "      <td>1446686</td>\n",
       "      <td>1010588</td>\n",
       "      <td>0</td>\n",
       "      <td>0</td>\n",
       "      <td>Action, Adventure, Massively Multiplayer</td>\n",
       "      <td>...</td>\n",
       "      <td>0</td>\n",
       "      <td>0.0</td>\n",
       "      <td>0</td>\n",
       "      <td>0</td>\n",
       "      <td>False</td>\n",
       "      <td>True</td>\n",
       "      <td>General</td>\n",
       "      <td>NaN</td>\n",
       "      <td>NaN</td>\n",
       "      <td>0.588736</td>\n",
       "    </tr>\n",
       "    <tr>\n",
       "      <th>3</th>\n",
       "      <td>1172470</td>\n",
       "      <td>Apex Legends™</td>\n",
       "      <td>0.0</td>\n",
       "      <td>True</td>\n",
       "      <td>75000000</td>\n",
       "      <td>651312</td>\n",
       "      <td>310493</td>\n",
       "      <td>0</td>\n",
       "      <td>0</td>\n",
       "      <td>Action, Adventure, Free To Play</td>\n",
       "      <td>...</td>\n",
       "      <td>0</td>\n",
       "      <td>0.0</td>\n",
       "      <td>0</td>\n",
       "      <td>0</td>\n",
       "      <td>False</td>\n",
       "      <td>True</td>\n",
       "      <td>Virtual Currency</td>\n",
       "      <td>NaN</td>\n",
       "      <td>NaN</td>\n",
       "      <td>0.677177</td>\n",
       "    </tr>\n",
       "    <tr>\n",
       "      <th>4</th>\n",
       "      <td>440</td>\n",
       "      <td>Team Fortress 2</td>\n",
       "      <td>0.0</td>\n",
       "      <td>True</td>\n",
       "      <td>75000000</td>\n",
       "      <td>994255</td>\n",
       "      <td>129232</td>\n",
       "      <td>0</td>\n",
       "      <td>0</td>\n",
       "      <td>Action, Free To Play</td>\n",
       "      <td>...</td>\n",
       "      <td>0</td>\n",
       "      <td>0.0</td>\n",
       "      <td>0</td>\n",
       "      <td>0</td>\n",
       "      <td>False</td>\n",
       "      <td>True</td>\n",
       "      <td>General</td>\n",
       "      <td>NaN</td>\n",
       "      <td>NaN</td>\n",
       "      <td>0.884972</td>\n",
       "    </tr>\n",
       "  </tbody>\n",
       "</table>\n",
       "<p>5 rows × 31 columns</p>\n",
       "</div>"
      ],
      "text/plain": [
       "    app_id                 name  price  is_free     owners  positive  \\\n",
       "0      570               Dota 2    0.0     True  350000000   1918179   \n",
       "1      730     Counter-Strike 2    0.0     True  150000000   7289663   \n",
       "2   578080  PUBG: BATTLEGROUNDS    0.0     True   75000000   1446686   \n",
       "3  1172470        Apex Legends™    0.0     True   75000000    651312   \n",
       "4      440      Team Fortress 2    0.0     True   75000000    994255   \n",
       "\n",
       "   negative  average_playtime  median_playtime  \\\n",
       "0    432830                 0                0   \n",
       "1   1094350                 0                0   \n",
       "2   1010588                 0                0   \n",
       "3    310493                 0                0   \n",
       "4    129232                 0                0   \n",
       "\n",
       "                                     genres  ...  metacritic_score  \\\n",
       "0            Action, Strategy, Free To Play  ...                 0   \n",
       "1                      Action, Free To Play  ...                 0   \n",
       "2  Action, Adventure, Massively Multiplayer  ...                 0   \n",
       "3           Action, Adventure, Free To Play  ...                 0   \n",
       "4                      Action, Free To Play  ...                 0   \n",
       "\n",
       "   user_score  critic_reviews_count  dlc_count  has_dlc has_microtransactions  \\\n",
       "0         0.0                     0          0    False                  True   \n",
       "1         0.0                     0          0    False                  True   \n",
       "2         0.0                     0          0    False                  True   \n",
       "3         0.0                     0          0    False                  True   \n",
       "4         0.0                     0          0    False                  True   \n",
       "\n",
       "  microtransaction_type  early_access_date  full_release_date  positive_ratio  \n",
       "0              Cosmetic                NaN                NaN        0.815896  \n",
       "1               General                NaN                NaN        0.869472  \n",
       "2               General                NaN                NaN        0.588736  \n",
       "3      Virtual Currency                NaN                NaN        0.677177  \n",
       "4               General                NaN                NaN        0.884972  \n",
       "\n",
       "[5 rows x 31 columns]"
      ]
     },
     "execution_count": 4,
     "metadata": {},
     "output_type": "execute_result"
    }
   ],
   "source": [
    "#Primer dataset\n",
    "df_steam.head()"
   ]
  },
  {
   "cell_type": "code",
   "execution_count": 3,
   "metadata": {},
   "outputs": [
    {
     "name": "stdout",
     "output_type": "stream",
     "text": [
      "<class 'pandas.core.frame.DataFrame'>\n",
      "RangeIndex: 1000 entries, 0 to 999\n",
      "Data columns (total 31 columns):\n",
      " #   Column                 Non-Null Count  Dtype  \n",
      "---  ------                 --------------  -----  \n",
      " 0   app_id                 1000 non-null   int64  \n",
      " 1   name                   1000 non-null   object \n",
      " 2   price                  1000 non-null   float64\n",
      " 3   is_free                1000 non-null   bool   \n",
      " 4   owners                 1000 non-null   int64  \n",
      " 5   positive               1000 non-null   int64  \n",
      " 6   negative               1000 non-null   int64  \n",
      " 7   average_playtime       1000 non-null   int64  \n",
      " 8   median_playtime        1000 non-null   int64  \n",
      " 9   genres                 1000 non-null   object \n",
      " 10  initial_price          1000 non-null   float64\n",
      " 11  discount               1000 non-null   float64\n",
      " 12  ccu                    1000 non-null   int64  \n",
      " 13  peak_ccu               1000 non-null   int64  \n",
      " 14  score_rank             0 non-null      float64\n",
      " 15  tags                   1000 non-null   object \n",
      " 16  release_date           998 non-null    object \n",
      " 17  is_indie               1000 non-null   bool   \n",
      " 18  current_players        1000 non-null   int64  \n",
      " 19  review_count           1000 non-null   int64  \n",
      " 20  review_score           1000 non-null   int64  \n",
      " 21  metacritic_score       1000 non-null   int64  \n",
      " 22  user_score             1000 non-null   float64\n",
      " 23  critic_reviews_count   1000 non-null   int64  \n",
      " 24  dlc_count              1000 non-null   int64  \n",
      " 25  has_dlc                1000 non-null   bool   \n",
      " 26  has_microtransactions  1000 non-null   bool   \n",
      " 27  microtransaction_type  196 non-null    object \n",
      " 28  early_access_date      0 non-null      float64\n",
      " 29  full_release_date      0 non-null      float64\n",
      " 30  positive_ratio         1000 non-null   float64\n",
      "dtypes: bool(4), float64(8), int64(14), object(5)\n",
      "memory usage: 215.0+ KB\n"
     ]
    }
   ],
   "source": [
    "df_steam.info()"
   ]
  }
 ],
 "metadata": {
  "kernelspec": {
   "display_name": "Python 3",
   "language": "python",
   "name": "python3"
  },
  "language_info": {
   "codemirror_mode": {
    "name": "ipython",
    "version": 3
   },
   "file_extension": ".py",
   "mimetype": "text/x-python",
   "name": "python",
   "nbconvert_exporter": "python",
   "pygments_lexer": "ipython3",
   "version": "3.9.6"
  },
  "orig_nbformat": 4
 },
 "nbformat": 4,
 "nbformat_minor": 2
}
